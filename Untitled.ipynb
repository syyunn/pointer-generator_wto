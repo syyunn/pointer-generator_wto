{
 "cells": [
  {
   "cell_type": "markdown",
   "metadata": {},
   "source": [
    "# Legal Implementation of Abisee's pointer-generator"
   ]
  },
  {
   "cell_type": "markdown",
   "metadata": {},
   "source": [
    "#### Why GATT/WTO panel report?\n",
    "\n",
    "This project is on the notion of expanding the currnet state-of-the-art NLP techs on legal filed. Since the law itself is intrisically domestic, global level of discussion on computational law and NLP implementation should be emrged from the International Public Law or specific International Legal Regimes, such as GATT/WTO, the world-trade regime."
   ]
  },
  {
   "cell_type": "code",
   "execution_count": null,
   "metadata": {},
   "outputs": [],
   "source": []
  }
 ],
 "metadata": {
  "kernelspec": {
   "display_name": "Python 3",
   "language": "python",
   "name": "python3"
  },
  "language_info": {
   "codemirror_mode": {
    "name": "ipython",
    "version": 3
   },
   "file_extension": ".py",
   "mimetype": "text/x-python",
   "name": "python",
   "nbconvert_exporter": "python",
   "pygments_lexer": "ipython3",
   "version": "3.6.4"
  }
 },
 "nbformat": 4,
 "nbformat_minor": 2
}
